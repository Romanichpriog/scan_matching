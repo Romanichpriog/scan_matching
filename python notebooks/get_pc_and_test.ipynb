{
 "cells": [
  {
   "cell_type": "code",
   "execution_count": null,
   "metadata": {
    "colab": {
     "base_uri": "https://localhost:8080/"
    },
    "id": "MLu_QlDw-MGF",
    "outputId": "855ddbfe-5c89-4492-f248-6a21166c288d"
   },
   "outputs": [],
   "source": [
    "import sys\n",
    "!{sys.executable} -m pip install pathlib\n",
    "!{sys.executable} -m pip install open3d"
   ]
  },
  {
   "cell_type": "code",
   "execution_count": 2,
   "metadata": {
    "id": "mCawJ8v2-MGH"
   },
   "outputs": [],
   "source": [
    "from scipy.spatial.transform import Rotation\n",
    "import time"
   ]
  },
  {
   "cell_type": "code",
   "execution_count": 3,
   "metadata": {
    "id": "ivRSxHN2-MGH"
   },
   "outputs": [],
   "source": [
    "import os\n",
    "import numpy as np\n",
    "import matplotlib.pyplot as plt\n",
    "from tqdm import tqdm\n",
    "%matplotlib inline"
   ]
  },
  {
   "cell_type": "markdown",
   "metadata": {
    "id": "v1igIi-K-MGI"
   },
   "source": [
    "## Регистрация облаков точек"
   ]
  },
  {
   "cell_type": "code",
   "execution_count": 4,
   "metadata": {
    "id": "khDkxqWs-MGJ"
   },
   "outputs": [],
   "source": [
    "%load_ext autoreload\n",
    "%autoreload 2"
   ]
  },
  {
   "cell_type": "code",
   "execution_count": 5,
   "metadata": {
    "id": "Wcfkaeb2-MGJ"
   },
   "outputs": [],
   "source": [
    "def remove_floor_and_ceil(cloud, floor_height=-0.9, ceil_height=1.5):\n",
    "    heights = np.linspace(-4.0, 4.0, 41)\n",
    "    floor_index = None\n",
    "    if floor_height == 'auto':\n",
    "        bins = []\n",
    "        for i, height in enumerate(heights[:-1]):\n",
    "            bins.append(len(cloud[(cloud[:, 2] > height) * (cloud[:, 2] < heights[i + 1])]))\n",
    "        #print('Bins:', bins)\n",
    "        floor_index = np.argmax(bins[:20]) + 1\n",
    "        floor_height = heights[floor_index]\n",
    "        assert floor_index < len(heights) - 5\n",
    "    if ceil_height == 'auto':\n",
    "        if floor_index is None:\n",
    "            floor_index = 0\n",
    "            while floor_index < len(heights) - 6 and heights[floor_index] < floor_height:\n",
    "                floor_index += 1\n",
    "        ceil_index = floor_index + 5 + np.argmax(bins[floor_index + 5:])\n",
    "        ceil_height = heights[ceil_index]\n",
    "    #print('Floor height:', floor_height)\n",
    "    #print('Ceil height:', ceil_height)\n",
    "    return cloud[(cloud[:, 2] > floor_height) * (cloud[:, 2] < ceil_height)]"
   ]
  },
  {
   "cell_type": "code",
   "execution_count": 6,
   "metadata": {
    "id": "e-mkCQZA-MGJ"
   },
   "outputs": [],
   "source": [
    "def raycast(grid, n_rays=1000, center_point=None):\n",
    "    grid_raycasted = grid.copy()\n",
    "    if center_point is None:\n",
    "        center_point = (grid.shape[0] // 2, grid.shape[1] // 2)\n",
    "    resolution = 0.1\n",
    "    radius = 8.0 / resolution\n",
    "    for sector in range(n_rays):\n",
    "        angle = sector / n_rays * 2 * np.pi - np.pi\n",
    "        ii = center_point[0] + np.sin(angle) * np.arange(0, radius)\n",
    "        jj = center_point[1] + np.cos(angle) * np.arange(0, radius)\n",
    "        ii = ii.astype(int)\n",
    "        jj = jj.astype(int)\n",
    "        good_ids = ((ii > 0) * (ii < grid.shape[0]) ** (jj > 0) * (jj < grid.shape[1])).astype(bool)\n",
    "        ii = ii[good_ids]\n",
    "        jj = jj[good_ids]\n",
    "        points_on_ray = grid[ii, jj]\n",
    "        if len(points_on_ray.nonzero()[0]) > 0:\n",
    "            last_obst = points_on_ray.nonzero()[0][-1]\n",
    "            grid_raycasted[ii[:last_obst], jj[:last_obst]] = 1\n",
    "        #else:\n",
    "            #grid_raycasted[ii, jj] = 1\n",
    "    return grid_raycasted"
   ]
  },
  {
   "cell_type": "code",
   "execution_count": 7,
   "metadata": {
    "id": "VAU0FMxu-MGK"
   },
   "outputs": [],
   "source": [
    "def transform_grid(grid, ox, oy, theta):\n",
    "    grid_transformed = np.full(grid.shape, 0)\n",
    "    for x in range(len(grid[1])):\n",
    "        for y in range(len(grid[0])):\n",
    "            if (grid[y][x] != 0):\n",
    "                newx = x - ox\n",
    "                newy = y - oy\n",
    "                newx = newx * np.cos(theta) + newy * np.sin(theta)\n",
    "                newy = -newx * np.sin(theta) + newy * np.cos(theta)\n",
    "                newx = int(np.rint(newx))\n",
    "                newy = int(np.rint(newy))\n",
    "                if newx < len(grid[1]) and newx>=0 and newy < len(grid[0]) and newy >= 0:\n",
    "                    grid_transformed[newy][newx] = grid[y][x]\n",
    "    return grid_transformed\n",
    "\n",
    "\n",
    "def transform_pcd(cloud, x, y, theta):\n",
    "    pcd_transformed = cloud.copy()\n",
    "    for cldpoint in pcd_transformed:\n",
    "        cldpoint[0] -= x\n",
    "        cldpoint[1] -= y\n",
    "        cldpoint[0] = cldpoint[0] * np.cos(theta) + cldpoint[1] * np.sin(theta)\n",
    "        cldpoint[1] = -cldpoint[0] * np.sin(theta) + cldpoint[1] * np.cos(theta)\n",
    "\n",
    "\n",
    "    return pcd_transformed"
   ]
  },
  {
   "cell_type": "code",
   "execution_count": 23,
   "metadata": {
    "id": "yyU_v_kg-MGL"
   },
   "outputs": [],
   "source": [
    "def get_occupancy_grid(points_xyz, resolution=0.1, radius=18, clip=8):\n",
    "    index = np.isnan(points_xyz).any(axis=1)\n",
    "    points_xyz = np.delete(points_xyz, index, axis=0)\n",
    "    points_xyz = points_xyz[(points_xyz[:, 0] > -clip) * (points_xyz[:, 0] < clip) * \\\n",
    "                            (points_xyz[:, 1] > -clip) * (points_xyz[:, 1] < clip)]\n",
    "    points_xyz_obstacles = remove_floor_and_ceil(points_xyz, floor_height=-0.3, ceil_height=0.5)\n",
    "    #print('Points xyz:', points_xyz.shape, points_xyz[0], points_xyz.min(), points_xyz.max())\n",
    "    grid = np.zeros((int(2 * radius / resolution), int(2 * radius / resolution)), dtype=np.uint8)\n",
    "    points_ij = np.round(points_xyz[:, :2] / resolution).astype(int) + \\\n",
    "                        [int(radius / resolution), int(radius / resolution)]\n",
    "    points_ij = points_ij[(points_ij[:, 0] >= 0) * (points_ij[:, 0] < grid.shape[0]) * \\\n",
    "                          (points_ij[:, 1] >= 0) * (points_ij[:, 1] < grid.shape[1])]\n",
    "    grid[points_ij[:, 0], points_ij[:, 1]] = 1\n",
    "    grid = raycast(grid)\n",
    "    points_ij = np.round(points_xyz_obstacles[:, :2] / resolution).astype(int) + \\\n",
    "                [int(radius / resolution), int(radius / resolution)]\n",
    "    points_ij = points_ij[(points_ij[:, 0] >= 0) * (points_ij[:, 0] < grid.shape[0]) * \\\n",
    "                          (points_ij[:, 1] >= 0) * (points_ij[:, 1] < grid.shape[1])]\n",
    "    grid[points_ij[:, 0], points_ij[:, 1]] = 2\n",
    "    return grid"
   ]
  },
  {
   "cell_type": "code",
   "execution_count": 8,
   "metadata": {
    "id": "MakjFwqP-MGL"
   },
   "outputs": [],
   "source": [
    "def get_iou_of_grids(rel_x, rel_y, rel_theta, cur_grid, v_grid, save=False, cnt=0):\n",
    "    rel_x_rotated = -rel_x * np.cos(rel_theta) - rel_y * np.sin(rel_theta)\n",
    "    rel_y_rotated = rel_x * np.sin(rel_theta) - rel_y * np.cos(rel_theta)\n",
    "    rel_x, rel_y = rel_x_rotated, rel_y_rotated\n",
    "    cur_grid_transformed = transform_grid(cur_grid, rel_x, rel_y, rel_theta)\n",
    "    cur_grid_transformed[cur_grid_transformed > 0] = 1\n",
    "    v_grid_copy = v_grid.copy()\n",
    "    v_grid_copy[v_grid_copy > 0] = 1\n",
    "    intersection = np.sum(v_grid_copy * cur_grid_transformed)\n",
    "    union = np.sum(v_grid_copy | cur_grid_transformed)\n",
    "    grid_aligned = np.zeros((v_grid.shape[0], v_grid.shape[1], 3))\n",
    "    grid_aligned[:, :, 0] = cur_grid_transformed\n",
    "    grid_aligned[:, :, 1] = v_grid\n",
    "    grid_aligned = (grid_aligned * 255).astype(np.uint8)\n",
    "    return intersection / union"
   ]
  },
  {
   "cell_type": "code",
   "execution_count": 9,
   "metadata": {
    "id": "Znt73J4b-MGM"
   },
   "outputs": [],
   "source": [
    "def get_iou(rel_x, rel_y, rel_theta, cur_cloud, v_cloud):\n",
    "    cur_grid = get_occupancy_grid(cur_cloud)\n",
    "    v_grid = get_occupancy_grid(v_cloud)\n",
    "    try:\n",
    "        return get_iou_of_grids(rel_x, rel_y, rel_theta, cur_grid, v_grid)\n",
    "    except:\n",
    "        return 0"
   ]
  },
  {
   "cell_type": "code",
   "execution_count": 10,
   "metadata": {
    "id": "d5pa-Txl-MGM"
   },
   "outputs": [],
   "source": [
    "def transform_icp(ref_cloud, cand_cloud, initial_transform):\n",
    "    reg_p2p = o3d.pipelines.registration.registration_icp(cand_cloud, ref_cloud, 0.4, initial_transform, o3d.pipelines.registration.TransformationEstimationPointToPoint(), o3d.pipelines.registration.ICPConvergenceCriteria(max_iteration=100))\n",
    "    transform_icp = reg_p2p.transformation # Your code here\n",
    "    score_icp = reg_p2p.fitness\n",
    "    return transform_icp, score_icp"
   ]
  },
  {
   "cell_type": "code",
   "execution_count": 11,
   "metadata": {
    "id": "eSIH2tca-MGM"
   },
   "outputs": [],
   "source": [
    "def normalize(angle):\n",
    "    while angle > np.pi:\n",
    "        angle -= 2 * np.pi\n",
    "    while angle < -np.pi:\n",
    "        angle += 2 * np.pi\n",
    "    return angle\n",
    "\n",
    "def transformation_error(gt_pose_shift, tf_matrix_estimated):\n",
    "    tf_rotation = Rotation.from_matrix(tf_matrix_estimated[:3, :3]).as_rotvec()\n",
    "    gt_x, gt_y, gt_angle = gt_pose_shift\n",
    "    #gt_angle = -gt_angle\n",
    "    estimated_angle = tf_rotation[2]\n",
    "    estimated_x = tf_matrix_estimated[0, 3]\n",
    "    estimated_y = tf_matrix_estimated[1, 3]\n",
    "    return (np.abs(estimated_x - gt_x), np.abs(estimated_y - gt_y), np.abs(normalize(estimated_angle - gt_angle)))"
   ]
  },
  {
   "cell_type": "code",
   "execution_count": 21,
   "metadata": {
    "id": "5L9EZhCk-MGM"
   },
   "outputs": [],
   "source": [
    "def get_rel_pose(x1, y1, theta1, x2, y2, theta2):\n",
    "    orx = x2 - x1\n",
    "    ory = y2 - y1\n",
    "    orx = orx * np.cos(theta2 - theta1) + ory * np.sin(theta2 - theta1)\n",
    "    ory = -orx * np.sin(theta2 - theta1) + ory * np.cos(theta2 - theta1)\n",
    "    return [orx, ory, theta2 - theta1]"
   ]
  },
  {
   "cell_type": "code",
   "execution_count": 12,
   "metadata": {
    "id": "l8xPyDQ7-MGN"
   },
   "outputs": [],
   "source": [
    "def preprocess_point_cloud(pcd, voxel_size):\n",
    "    pcd_down = pcd.voxel_down_sample(voxel_size)\n",
    "\n",
    "    radius_normal = voxel_size * 2\n",
    "    pcd_down.estimate_normals(\n",
    "        o3d.geometry.KDTreeSearchParamHybrid(radius=radius_normal, max_nn=30))\n",
    "\n",
    "    radius_feature = voxel_size * 5\n",
    "    pcd_fpfh = o3d.pipelines.registration.compute_fpfh_feature(\n",
    "        pcd_down,\n",
    "        o3d.geometry.KDTreeSearchParamHybrid(radius=radius_feature, max_nn=100))\n",
    "    return pcd_down, pcd_fpfh"
   ]
  },
  {
   "cell_type": "code",
   "execution_count": 13,
   "metadata": {
    "id": "XZVOKwAZ-MGN"
   },
   "outputs": [],
   "source": [
    "def execute_global_registration(source_down, target_down, source_fpfh,\n",
    "                                target_fpfh, voxel_size):\n",
    "    distance_threshold = voxel_size * 1.5\n",
    "    result = o3d.pipelines.registration.registration_ransac_based_on_feature_matching(\n",
    "        source_down, target_down, source_fpfh, target_fpfh, True,\n",
    "        distance_threshold,\n",
    "        o3d.pipelines.registration.TransformationEstimationPointToPoint(False),\n",
    "        3, [\n",
    "            o3d.pipelines.registration.CorrespondenceCheckerBasedOnEdgeLength(\n",
    "                0.9),\n",
    "            o3d.pipelines.registration.CorrespondenceCheckerBasedOnDistance(\n",
    "                distance_threshold)\n",
    "        ], o3d.pipelines.registration.RANSACConvergenceCriteria(100000, 0.999))\n",
    "    return result"
   ]
  },
  {
   "cell_type": "code",
   "execution_count": null,
   "metadata": {},
   "outputs": [],
   "source": [
    "import open3d as o3d\n",
    "def get_height_proj(pcd):\n",
    "    points = np.asarray(pcd.points)\n",
    "    points = remove_floor_and_ceil(points)\n",
    "    highest_z = np.max(points[:, 2])\n",
    "    projection_matrix = np.array([\n",
    "        [1, 0, 0],\n",
    "        [0, 1, 0],\n",
    "        [0, 0, 0]\n",
    "    ])\n",
    "    projected_points = points @ projection_matrix.T\n",
    "    projected_point_cloud = o3d.geometry.PointCloud()\n",
    "    projected_point_cloud.points = o3d.utility.Vector3dVector(projected_points)\n",
    "    return projected_point_cloud\n",
    "\n",
    "\n",
    "\n",
    "import numpy as np\n",
    "from collections import defaultdict\n",
    "\n",
    "def get_height_proj1(pcd):\n",
    "    points = np.asarray(pcd.points)\n",
    "    points = remove_floor_and_ceil(points)\n",
    "    max_z_dict = defaultdict(lambda: {'z': -float('inf'), 'point': None})\n",
    "    for point in points:\n",
    "        x, y, z = point\n",
    "        key = (round(x, 3), round(y, 3)) \n",
    "        \n",
    "        if z > max_z_dict[key]['z']:\n",
    "            max_z_dict[key]['z'] = z\n",
    "            max_z_dict[key]['point'] = point\n",
    "    projected_points = np.array([info['point'] for info in max_z_dict.values()])\n",
    "\n",
    "    projected_point_cloud = o3d.geometry.PointCloud()\n",
    "    projected_point_cloud.points = o3d.utility.Vector3dVector(projected_points)\n",
    "    \n",
    "    return projected_point_cloud\n",
    "\n",
    "\n",
    "\n",
    "def save_point_cloud_to_txt(point_cloud, file_path):\n",
    "    points = np.asarray(point_cloud.points)\n",
    "    with open(file_path, 'a') as file:\n",
    "        file.write(f\"{len(points)}\\n\")\n",
    "        for point in points:\n",
    "            file.write(f\"{point[0]} {point[1]} {point[2]}\\n\")"
   ]
  },
  {
   "cell_type": "code",
   "execution_count": null,
   "metadata": {},
   "outputs": [],
   "source": [
    "import open3d as o3d\n",
    "import numpy as np\n",
    "import cv2\n",
    "from PIL import Image\n",
    "\n",
    "def generate_bv_image(point_cloud, resolution=0.2):\n",
    "    downsampled_cloud = point_cloud.voxel_down_sample(voxel_size=resolution)\n",
    "\n",
    "    points = np.asarray(downsampled_cloud.points)\n",
    "    points = remove_floor_and_ceil(points)\n",
    "    \n",
    "    x_min, y_min = np.min(points[:, 0]), np.min(points[:, 1])\n",
    "    x_max, y_max = np.max(points[:, 0]), np.max(points[:, 1])\n",
    "    \n",
    "    y_min_ind = int(y_min / resolution)\n",
    "    y_max_ind = int(y_max / resolution)\n",
    "    x_min_ind = int(x_min / resolution)\n",
    "    x_max_ind = int(x_max / resolution)\n",
    "    \n",
    "    x_num = x_max_ind - x_min_ind + 1\n",
    "    y_num = y_max_ind - y_min_ind + 1\n",
    "    \n",
    "    bv_image = np.zeros((y_num, x_num), dtype=np.uint8)\n",
    "    \n",
    "    for point in points:\n",
    "        x, y = point[0], point[1]\n",
    "        y_ind = y_max_ind - int(y / resolution)\n",
    "        x_ind = x_max_ind - int(x / resolution)\n",
    "        if 0 <= x_ind < x_num and 0 <= y_ind < y_num:\n",
    "            bv_image[y_ind, x_ind] += 1\n",
    "    \n",
    "\n",
    "    max_pixel = np.max(bv_image)\n",
    "    \n",
    "\n",
    "    for y in range(y_num):\n",
    "        for x in range(x_num):\n",
    "            if bv_image[y, x] * 10 > 100:\n",
    "                bv_image[y, x] = 100\n",
    "            else:\n",
    "                bv_image[y, x] = bv_image[y, x] * 10\n",
    "            if bv_image[y, x] == 0:\n",
    "                bv_image[y, x] = 10\n",
    "    # cv2.startWindowThread()\n",
    "    # cv2.imshow(\"Bird's Eye View\", bv_image)\n",
    "    # cv2.waitKey(0)\n",
    "    # cv2.destroyAllWindows()\n",
    "    return bv_image, x_max_ind, y_max_ind"
   ]
  },
  {
   "cell_type": "code",
   "execution_count": null,
   "metadata": {},
   "outputs": [],
   "source": [
    "def reconstruct_point_cloud_from_bv(bv_image, x_max_ind, y_max_ind, resolution=0.2):\n",
    "\n",
    "    y_num, x_num = bv_image.shape\n",
    "    \n",
    "\n",
    "    points = []\n",
    "    \n",
    "    for y_ind in range(y_num):\n",
    "        for x_ind in range(x_num):\n",
    "            pixel_value = bv_image[y_ind, x_ind]\n",
    "            \n",
    "            if pixel_value <= 40:\n",
    "                continue\n",
    "            num_points = 1\n",
    "            x_coord = (x_max_ind - x_ind) * resolution\n",
    "            y_coord = (y_max_ind - y_ind) * resolution\n",
    "        \n",
    "            for _ in range(num_points):\n",
    "                offset_x = 0 \n",
    "                offset_y = 0 \n",
    "                \n",
    "                points.append([x_coord + offset_x, y_coord + offset_y, 0.0])\n",
    "    \n",
    "    point_cloud = o3d.geometry.PointCloud()\n",
    "    if points: \n",
    "        point_cloud.points = o3d.utility.Vector3dVector(np.array(points))\n",
    "    \n",
    "    return point_cloud"
   ]
  },
  {
   "cell_type": "code",
   "execution_count": 17,
   "metadata": {},
   "outputs": [],
   "source": [
    "import matplotlib.pyplot as plt\n",
    "def plot_proj(pcl1):\n",
    "    points = np.asarray(get_height_proj(pcl1).points)\n",
    "    plt.figure(figsize=(8, 5))\n",
    "    plt.scatter(points[:,0], points[:,1])\n",
    "    plt.show()\n",
    "    "
   ]
  },
  {
   "cell_type": "code",
   "execution_count": 18,
   "metadata": {},
   "outputs": [],
   "source": [
    "def getMat(file):\n",
    "    tm = np.eye(4)\n",
    "    s = file.readline().split()\n",
    "    if (s[0] == \"*\"):\n",
    "        return tm\n",
    "    s1 = file.readline().split()\n",
    "    s2 = file.readline().split()\n",
    "    dx = float(s[2])\n",
    "    dy = float(s1[2])\n",
    "    tm[:3, :3] = np.array([\n",
    "            [float(s[0]), 0, float(s[1])],\n",
    "            [0, 1, 0],\n",
    "            [float(s1[0]), 0, float(s1[1])]\n",
    "        ])\n",
    "    tm[0][3] = dx\n",
    "    tm[1][3] = dy\n",
    "    if True in np.isnan(tm):\n",
    "        return np.eye(4)\n",
    "    return tm"
   ]
  },
  {
   "cell_type": "code",
   "execution_count": 19,
   "metadata": {},
   "outputs": [],
   "source": [
    "import copy\n",
    "def draw_registration_result(source, target, transformation):\n",
    "    source_temp = copy.deepcopy(source)\n",
    "    target_temp = copy.deepcopy(target)\n",
    "    source_temp.paint_uniform_color([1, 0.706, 0])\n",
    "    target_temp.paint_uniform_color([0, 0.651, 0.929])\n",
    "    source_temp.transform(transformation)\n",
    "    o3d.visualization.draw_geometries([source_temp, target_temp])"
   ]
  },
  {
   "cell_type": "code",
   "execution_count": null,
   "metadata": {
    "colab": {
     "base_uri": "https://localhost:8080/",
     "height": 216
    },
    "id": "0l41xRLh-MGN",
    "outputId": "28a14517-796e-49b5-d4d3-8b97fc6f4113"
   },
   "outputs": [],
   "source": [
    "import open3d as o3d\n",
    "import sys\n",
    "import open3d.pipelines as o3dp\n",
    "\n",
    "\n",
    "voxel_size = 0.1\n",
    "\n",
    "test_results = []\n",
    "ious = []\n",
    "dists = []\n",
    "icp_results = []\n",
    "bv_result = []\n",
    "h_result = []\n",
    "icp_times = []\n",
    "\n",
    "dataset_dir = 'test_mssplace_by_odometry_8'\n",
    "pr_data_dir = os.path.join(dataset_dir, 'place_recognition_data')\n",
    "graph_data_dir = os.path.join(dataset_dir, 'graph_data')\n",
    "\n",
    "filename = \"databv40.txt\"\n",
    "\n",
    "with open(\"result1.txt\") as file, open(\"resultbv.txt\") as file1:\n",
    "    for ii, test_name in tqdm(list(enumerate(os.listdir(pr_data_dir)))):\n",
    "        test_dir = os.path.join(pr_data_dir, test_name)\n",
    "        try:\n",
    "            transforms_ = np.loadtxt(os.path.join(test_dir, 'transforms.txt'))\n",
    "        except Exception as e:\n",
    "            continue\n",
    "        if transforms_.size == 0:\n",
    "            continue\n",
    "        if transforms_.ndim == 1:\n",
    "            transforms_ = transforms_[np.newaxis, :]\n",
    "        cand_clouds = {}\n",
    "        cand_poses = {}\n",
    "        # Reference cloud (from robot)\n",
    "        ref_cloud = np.load(os.path.join(test_dir, 'cloud.npz'))['arr_0']\n",
    "        ref_cloud = ref_cloud[:, :3]\n",
    "        ref_cloud = ref_cloud[ref_cloud == ref_cloud].reshape((-1, 3))\n",
    "        if transforms_.size == 0:\n",
    "            continue\n",
    "        for idx in transforms_[:, 0]:\n",
    "            cloud = np.load(os.path.join(graph_data_dir, str(int(idx)), 'cloud.npz'))['arr_0']\n",
    "            pose_stamped = np.loadtxt(os.path.join(graph_data_dir, str(int(idx)), 'pose_stamped.txt'))\n",
    "            cand_clouds[int(idx)] = cloud\n",
    "            cand_poses[int(idx)] = pose_stamped[1:]\n",
    "        gt_poses = np.loadtxt(os.path.join(test_dir, 'gt_poses.txt'))\n",
    "        transforms = {}\n",
    "        pr_scores = np.loadtxt(os.path.join(test_dir, 'pr_scores.txt'))\n",
    "        ref_cloud = ref_cloud[ref_cloud == ref_cloud].reshape((-1, 3))\n",
    "\n",
    "        target = o3d.geometry.PointCloud()\n",
    "        target.points = o3d.utility.Vector3dVector(ref_cloud)\n",
    "\n",
    "\n",
    "\n",
    "        # save_point_cloud_to_txt(newpc, filename)\n",
    "\n",
    "        # with open(filename, 'a') as file:\n",
    "        #     # Write the number of points as the first line\n",
    "        #     file.write(f\"{transforms_.size // 7} !\\n\")\n",
    "\n",
    "        target_down, target_fpfh = preprocess_point_cloud(target, voxel_size)\n",
    "\n",
    "        for i in range(transforms_.size // 7):\n",
    "            idx = transforms_[i, 0]\n",
    "            pr_score = pr_scores[i]\n",
    "            transforms[idx] = transforms_[i, 1:]\n",
    "            gt_pose = cand_poses[int(idx)]\n",
    "            pose_shift = get_rel_pose(*gt_poses[0], *gt_pose)\n",
    "            dist = np.sqrt(pose_shift[0] ** 2 + pose_shift[1] ** 2)\n",
    "            dists.append(dist)\n",
    "            # Candidate cloud (from graph of locations)\n",
    "            cloud = cand_clouds[idx][:, :3]\n",
    "            cloud = cloud[cloud == cloud].reshape((-1, 3))\n",
    "            iou = get_iou(*pose_shift,ref_cloud, cloud)\n",
    "            ious.append(iou)\n",
    "            tm = getMat(file)\n",
    "            tmbv = getMat(file1)\n",
    "            \n",
    "            \n",
    "            source = o3d.geometry.PointCloud()\n",
    "            source.points = o3d.utility.Vector3dVector(cloud)\n",
    "\n",
    "\n",
    "            evaluationh = o3dp.registration.evaluate_registration(source, target,\n",
    "                                                        0.4, tm)\n",
    "            evaluationdm = o3dp.registration.evaluate_registration(source, target,\n",
    "                                                        0.4, tmbv)\n",
    "\n",
    "            \n",
    "            # img, mx, my = generate_bv_image(source)\n",
    "            # newpc = reconstruct_point_cloud_from_bv(img, mx, my)\n",
    "            # save_point_cloud_to_txt(newpc, filename)\n",
    "    \n",
    "            # save_point_cloud_to_txt(get_height_proj(source), \"data.txt\")\n",
    "\n",
    "\n",
    "\n",
    "\n",
    "            source_down, source_fpfh = preprocess_point_cloud(source, voxel_size)\n",
    "\n",
    "            # ICP\n",
    "            # start_time = time.time()\n",
    "            result_ransac = execute_global_registration(source_down, target_down, source_fpfh, target_fpfh, voxel_size)\n",
    "            initial_transform = result_ransac.transformation\n",
    "            tf_matrix_icp, fitness_icp = transform_icp(target, source, initial_transform)\n",
    "            # icp_times.append(time.time() - start_time)\n",
    "            icp_times.append(0.1)\n",
    "            error_bv = transformation_error(pose_shift, np.linalg.inv(tmbv))\n",
    "            error_h = transformation_error(pose_shift, np.linalg.inv(tm))\n",
    "            error_icp = transformation_error(pose_shift, np.linalg.inv(tf_matrix_icp))\n",
    "            icp_results.append((fitness_icp, error_icp))\n",
    "            bv_result.append((evaluationdm.fitness, error_bv))\n",
    "            h_result.append((evaluationh.fitness, error_h))"
   ]
  },
  {
   "cell_type": "markdown",
   "metadata": {
    "id": "OjWhgPxE-MGN"
   },
   "source": [
    "### Test set properties"
   ]
  },
  {
   "cell_type": "code",
   "execution_count": null,
   "metadata": {
    "id": "2V1rw21h-MGO",
    "outputId": "77a6380e-7f70-4688-fb6e-34f5ba56b667",
    "scrolled": true
   },
   "outputs": [],
   "source": [
    "print('Total number of pairs:', len(ious))\n",
    "print('Number of pairs with IoU > 0.5:', sum([i > 0.5 for i in ious]))\n",
    "print('Number of pairs with IoU > 0.25:', sum([i > 0.25 for i in ious]))\n",
    "print('Number of pairs closer than 5 m:', sum([i < 5 for i in dists]))\n",
    "print('Number of pairs further than 10 m:', sum([i > 10 for i in dists]))"
   ]
  },
  {
   "cell_type": "markdown",
   "metadata": {
    "id": "4s5sLJs1-MGO"
   },
   "source": [
    "### ICP results"
   ]
  },
  {
   "cell_type": "code",
   "execution_count": null,
   "metadata": {
    "id": "hq-8_-oV-MGO",
    "outputId": "358f8dd6-fbb2-4743-bf1a-94b6f2b94443",
    "scrolled": true
   },
   "outputs": [],
   "source": [
    "print('Average runtime:', np.mean(icp_times))"
   ]
  },
  {
   "cell_type": "code",
   "execution_count": null,
   "metadata": {
    "id": "UykBhhOs-MGO",
    "outputId": "301b7f07-d1c7-4702-a671-af54344577c5",
    "scrolled": false
   },
   "outputs": [],
   "source": [
    "threshold = 0.7\n",
    "print('Number of correct matches with IoU > 0.5:', np.sum([(icp_results[i][0] > threshold) * (max(icp_results[i][1]) < 0.5) \\\n",
    "                                              for i in range(len(ious)) if ious[i] > 0.5]))\n",
    "print('Number of correct matches with IoU > 0.25:', np.sum([(icp_results[i][0] > threshold) * (max(icp_results[i][1]) < 0.5) \\\n",
    "                                              for i in range(len(ious)) if ious[i] > 0.25]))\n",
    "print('Number of wrong matches:', np.sum([(fitness > threshold) * (max(error) > 0.5) \\\n",
    "                                              for fitness, error in icp_results]))\n",
    "print('Number of missed matches with IoU > 0.5:', np.sum([(icp_results[i][0] < threshold) * (ious[i] > 0.5) \\\n",
    "                                                          for i in range(len(ious) - 1)]))\n",
    "print('Number of missed matches with IoU > 0.25:', np.sum([(icp_results[i][0] < threshold) * (ious[i] > 0.25) \\\n",
    "                                                          for i in range(len(ious) - 1)]))"
   ]
  },
  {
   "cell_type": "code",
   "execution_count": 34,
   "metadata": {},
   "outputs": [],
   "source": [
    "icp_results = h_result"
   ]
  },
  {
   "cell_type": "code",
   "execution_count": 53,
   "metadata": {
    "id": "fEcHlgX6-MGO",
    "outputId": "b2894330-ddb7-41e1-88dc-943995024b5d"
   },
   "outputs": [
    {
     "name": "stdout",
     "output_type": "stream",
     "text": [
      "Precision: 0.2201761409127302\n",
      "Recall with IoU > 0.5: 0.631578947368421\n",
      "Recall with IoU > 0.25: 0.3915441176470588\n"
     ]
    }
   ],
   "source": [
    "threshold = 0.7\n",
    "print('Precision:', np.sum([(fitness > threshold) * (max(error) < 0.5) \\\n",
    "                                              for fitness, error in icp_results]) / \\\n",
    "                    np.sum([(fitness > threshold) for fitness, error in icp_results]))\n",
    "print('Recall with IoU > 0.5:', np.sum([(icp_results[i][0] > threshold) * (max(icp_results[i][1]) < 0.5) \\\n",
    "                                              for i in range(len(ious)) if ious[i] > 0.5]) / \\\n",
    "                                sum([i > 0.5 for i in ious]))\n",
    "print('Recall with IoU > 0.25:', np.sum([(icp_results[i][0] > threshold) * (max(icp_results[i][1]) < 0.5) \\\n",
    "                                              for i in range(len(ious)) if ious[i] > 0.25]) / \\\n",
    "                                sum([i > 0.25 for i in ious]))"
   ]
  },
  {
   "cell_type": "code",
   "execution_count": null,
   "metadata": {
    "id": "8x_i_w1B-MGP",
    "outputId": "4123adc0-2b3f-4a85-ec41-03643b207a22"
   },
   "outputs": [],
   "source": [
    "print(len(ious), len(icp_results), len(icp_times))"
   ]
  },
  {
   "cell_type": "code",
   "execution_count": null,
   "metadata": {},
   "outputs": [],
   "source": [
    "np.sum([(fitness > threshold) for fitness, error in icp_results])"
   ]
  },
  {
   "cell_type": "code",
   "execution_count": null,
   "metadata": {
    "id": "L9XkkNtT-MGP"
   },
   "outputs": [],
   "source": [
    "precisions_icp = []\n",
    "recals_icp = []\n",
    "precisions_h = []\n",
    "recals_h = []\n",
    "precisions_bv = []\n",
    "recals_bv = []\n",
    "print(len(ious))\n",
    "\n",
    "interv = np.linspace(0.1,1,10)\n",
    "for ii in range(9):\n",
    "    pr_icp = np.sum([(icp_results[i][0] > threshold) * (max(icp_results[i][1]) < 0.5) \\\n",
    "                 for i in range(len(ious)) if (ious[i] >= interv[ii] and ious[i] < interv[ii + 1])]) \\\n",
    "    / np.sum([(icp_results[i][0] > threshold) for i in range(len(ious)) \\\n",
    "              if (ious[i] >= interv[ii] and ious[i] < interv[ii + 1])])\n",
    "    rec_icp = np.sum([(icp_results[i][0] > threshold) * (max(icp_results[i][1]) < 0.5) for i in range(len(ious)) if ious[i] >= interv[ii] and ious[i] < interv[ii + 1]]) / sum([ious[i] >= interv[ii] and ious[i] < interv[ii + 1] for i in range(len(ious))])\n",
    "    pr_bv = np.sum([(bv_result[i][0] > threshold) * (max(bv_result[i][1]) < 0.5) \\\n",
    "                 for i in range(len(ious)) if (ious[i] >= interv[ii] and ious[i] < interv[ii + 1])]) \\\n",
    "    / np.sum([(bv_result[i][0] > threshold) for i in range(len(ious)) \\\n",
    "              if (ious[i] >= interv[ii] and ious[i] < interv[ii + 1])])\n",
    "    rec_bv = np.sum([(bv_result[i][0] > threshold) * (max(bv_result[i][1]) < 0.5) for i in range(len(ious)) if ious[i] >= interv[ii] and ious[i] < interv[ii + 1]]) / sum([ious[i] >= interv[ii] and ious[i] < interv[ii + 1] for i in range(len(ious))])\n",
    "    pr_h = np.sum([(h_result[i][0] > threshold) * (max(h_result[i][1]) < 0.5) \\\n",
    "                 for i in range(len(ious)) if (ious[i] >= interv[ii] and ious[i] < interv[ii + 1])]) \\\n",
    "    / np.sum([(h_result[i][0] > threshold) for i in range(len(ious)) \\\n",
    "              if (ious[i] >= interv[ii] and ious[i] < interv[ii + 1])])\n",
    "    rec_h = np.sum([(h_result[i][0] > threshold) * (max(h_result[i][1]) < 0.5) for i in range(len(ious)) if ious[i] >= interv[ii] and ious[i] < interv[ii + 1]]) / sum([ious[i] >= interv[ii] and ious[i] < interv[ii + 1] for i in range(len(ious))])\n",
    "    # at = np.sum([icp_times[i] for i in range(len(ious)) if ious[i] >= interv[ii] and ious[i] < interv[ii + 1]]) / np.sum([1 for i in range(len(ious)) if ious[i] >= interv[ii] and ious[i] < interv[ii + 1]])\n",
    "    precisions_icp.append(pr_icp)\n",
    "    recals_icp.append(rec_icp)\n",
    "    precisions_bv.append(pr_bv)\n",
    "    recals_bv.append(rec_bv)\n",
    "    precisions_h.append(pr_h)\n",
    "    recals_h.append(rec_h)\n"
   ]
  },
  {
   "cell_type": "code",
   "execution_count": 77,
   "metadata": {},
   "outputs": [],
   "source": [
    "icpcopy = icp_results.copy()\n",
    "hcopy = h_result.copy()\n",
    "bvcopy = bv_result.copy()"
   ]
  },
  {
   "cell_type": "code",
   "execution_count": null,
   "metadata": {},
   "outputs": [],
   "source": [
    "print(len(icpcopy))"
   ]
  },
  {
   "cell_type": "markdown",
   "metadata": {
    "id": "TH_bhIP1-MGP"
   },
   "source": [
    "## График Точности"
   ]
  },
  {
   "cell_type": "code",
   "execution_count": 52,
   "metadata": {
    "id": "q-Evr55v-MGP",
    "outputId": "d228cc45-ff7d-49d3-9e06-87ddb4714d37"
   },
   "outputs": [
    {
     "data": {
      "image/png": "[encoded data removed]",
      "text/plain": [
       "<Figure size 800x500 with 1 Axes>"
      ]
     },
     "metadata": {},
     "output_type": "display_data"
    }
   ],
   "source": [
    "import matplotlib.pyplot as plt\n",
    "\n",
    "x = range(9)\n",
    "labels = ['0.1-0.2', '0.2-0.3', '0.3-0.4', '0.4-0.5', '0.5-0.6', '0.6-0.7', '0.7-0.8', '0.8-0.9', '0.9-1']\n",
    "\n",
    "plt.figure(figsize=(8, 5))\n",
    "plt.plot(x, precisions_icp, marker='o', label=\"ICP\")\n",
    "plt.plot(x, precisions_h, marker='o', label=\"CircleFit с проекцией вид сверху\")\n",
    "plt.plot(x, precisions_bv, marker='o', label=\"CircleFit с частотной проекцией\")\n",
    "\n",
    "plt.legend()\n",
    "plt.xticks(x, labels)\n",
    "\n",
    "# Оформление\n",
    "plt.xlabel(\"intr\")\n",
    "plt.ylabel(\"precision\")\n",
    "plt.grid(True)\n",
    "plt.show()"
   ]
  },
  {
   "cell_type": "markdown",
   "metadata": {
    "id": "hePmgNDZ-MGP"
   },
   "source": [
    "## График Полноты"
   ]
  },
  {
   "cell_type": "code",
   "execution_count": 51,
   "metadata": {
    "id": "JVvsnwR--MGP",
    "outputId": "0ecd6f40-1b4a-4576-9e9f-5589a92b7b86"
   },
   "outputs": [
    {
     "data": {
      "image/png": "[encoded data removed]",
      "text/plain": [
       "<Figure size 800x500 with 1 Axes>"
      ]
     },
     "metadata": {},
     "output_type": "display_data"
    }
   ],
   "source": [
    "plt.figure(figsize=(8, 5))\n",
    "plt.plot(x, recals_icp, marker='o', label=\"ICP\")\n",
    "plt.plot(x, recals_h, marker='o', label=\"CircleFit с проекцией вид сверху\")\n",
    "plt.plot(x, recals_bv, marker='o', label=\"CircleFit с частотной проекцией\")\n",
    "plt.legend()\n",
    "\n",
    "\n",
    "plt.xticks(x, labels)\n",
    "\n",
    "# Оформление\n",
    "plt.xlabel(\"intr\")\n",
    "plt.ylabel(\"recall\")\n",
    "plt.grid(True)\n",
    "plt.show()"
   ]
  },
  {
   "cell_type": "markdown",
   "metadata": {},
   "source": []
  },
  {
   "cell_type": "markdown",
   "metadata": {
    "id": "WJYaQj1p-MGQ"
   },
   "source": [
    "## График Среднего времени"
   ]
  },
  {
   "cell_type": "code",
   "execution_count": null,
   "metadata": {
    "id": "NQo0HVaO-MGQ",
    "outputId": "d77d9ab0-cfb6-4a80-ab85-bac3121f04c1"
   },
   "outputs": [],
   "source": [
    "plt.figure(figsize=(8, 5))\n",
    "plt.plot(x, av_times, marker='o')\n",
    "\n",
    "\n",
    "plt.xticks(x, labels)\n",
    "\n",
    "# Оформление\n",
    "plt.xlabel(\"intr\")\n",
    "plt.ylabel(\"avarege time\")\n",
    "plt.grid(True)\n",
    "plt.show()"
   ]
  },
  {
   "cell_type": "code",
   "execution_count": null,
   "metadata": {
    "id": "bVDJtC7f-MGQ"
   },
   "outputs": [],
   "source": []
  }
 ],
 "metadata": {
  "accelerator": "GPU",
  "colab": {
   "gpuType": "T4",
   "provenance": []
  },
  "kernelspec": {
   "display_name": "super_point_env",
   "language": "python",
   "name": "python3"
  },
  "language_info": {
   "codemirror_mode": {
    "name": "ipython",
    "version": 3
   },
   "file_extension": ".py",
   "mimetype": "text/x-python",
   "name": "python",
   "nbconvert_exporter": "python",
   "pygments_lexer": "ipython3",
   "version": "3.9.16"
  }
 },
 "nbformat": 4,
 "nbformat_minor": 1
}
